{
  "nbformat": 4,
  "nbformat_minor": 0,
  "metadata": {
    "colab": {
      "provenance": []
    },
    "kernelspec": {
      "name": "python3",
      "display_name": "Python 3"
    },
    "language_info": {
      "name": "python"
    }
  },
  "cells": [
    {
      "cell_type": "code",
      "execution_count": null,
      "metadata": {
        "id": "0Gv2pfM_OzkF"
      },
      "outputs": [],
      "source": []
    },
    {
      "cell_type": "markdown",
      "source": [
        "# 📘 Prova P1 – Análise e Predição do Desempenho de Estudantes  \n",
        "\n",
        "**Aluno:** Matheus Beiruth  \n",
        "**Disciplina:** Engenharia de Software – Probabilidade e Estatística  \n",
        "**Professor:** Fabrício Dias\n",
        "**Data:** Setembro/2025  \n",
        "\n",
        "---\n",
        "\n",
        "## 🎯 Objetivo\n",
        "Este trabalho tem como objetivo analisar o desempenho dos estudantes a partir de dados de estudo, frequência e participação em aula.  \n",
        "Além disso, modelos de **regressão** e **classificação** serão aplicados para prever notas e categorizar o desempenho acadêmico.  \n",
        "\n",
        "---\n"
      ],
      "metadata": {
        "id": "K9HnuqclO3qX"
      }
    },
    {
      "cell_type": "code",
      "source": [
        "from google.colab import files\n",
        "uploaded = files.upload()"
      ],
      "metadata": {
        "id": "ubGX04QQPV6s"
      },
      "execution_count": null,
      "outputs": []
    },
    {
      "cell_type": "code",
      "source": [
        "import pandas as pd\n",
        "import numpy as np\n",
        "import matplotlib.pyplot as plt\n",
        "import seaborn as sns\n",
        "\n",
        "from sklearn.model_selection import train_test_split, cross_val_score, KFold\n",
        "from sklearn.linear_model import LinearRegression, LogisticRegression\n",
        "from sklearn.ensemble import RandomForestClassifier\n",
        "from sklearn.svm import SVC\n",
        "from xgboost import XGBClassifier\n",
        "from sklearn.metrics import (\n",
        "    mean_absolute_error, mean_squared_error, r2_score,\n",
        "    accuracy_score, classification_report, confusion_matrix\n",
        ")\n",
        "from sklearn.preprocessing import StandardScaler\n",
        "from imblearn.over_sampling import SMOTE\n",
        "from math import sqrt\n",
        "\n",
        "sns.set(style='whitegrid')\n",
        "%matplotlib inline\n"
      ],
      "metadata": {
        "id": "Em0UoRiyPPXC"
      },
      "execution_count": null,
      "outputs": []
    },
    {
      "cell_type": "code",
      "source": [
        "caminho_arquivo = \"student_performance.csv\"\n",
        "dados = pd.read_csv(caminho_arquivo)\n",
        "print(\"Formato do conjunto de dados:\", dados.shape)\n",
        "dados.head()\n"
      ],
      "metadata": {
        "id": "WNQEBDoyPTAH"
      },
      "execution_count": null,
      "outputs": []
    },
    {
      "cell_type": "code",
      "source": [
        "print(\"Valores ausentes por coluna:\\n\", dados.isna().sum())\n",
        "display(dados.describe(include='all'))\n",
        "\n",
        "\n",
        "plt.figure(figsize=(8,4))\n",
        "sns.histplot(dados['weekly_self_study_hours'], bins=30, kde=True)\n",
        "plt.title(\"Distribuição: Horas de Estudo Semanais\")\n",
        "plt.xlabel(\"Horas de estudo semanais\")\n",
        "plt.show()\n",
        "\n",
        "plt.figure(figsize=(8,4))\n",
        "sns.boxplot(x='grade', y='total_score', data=dados, order=['A','B','C','D','F'])\n",
        "plt.title(\"Boxplot: Nota Total por Grade\")\n",
        "plt.xlabel(\"Grade\")\n",
        "plt.ylabel(\"Nota total\")\n",
        "plt.show()\n",
        "\n",
        "\n",
        "plt.figure(figsize=(7,5))\n",
        "sns.heatmap(dados[[\"weekly_self_study_hours\",\"attendance_percentage\",\"class_participation\",\"total_score\"]].corr(), annot=True, cmap=\"coolwarm\")\n",
        "plt.title(\"Mapa de Correlação (numéricas)\")\n",
        "plt.show()\n"
      ],
      "metadata": {
        "id": "kYFvyFUOPfHM"
      },
      "execution_count": null,
      "outputs": []
    },
    {
      "cell_type": "code",
      "source": [
        "X_simples = dados[['weekly_self_study_hours']]\n",
        "y = dados['total_score']\n",
        "\n",
        "X_treino_s, X_teste_s, y_treino_s, y_teste_s = train_test_split(X_simples, y, test_size=0.2, random_state=42)\n",
        "\n",
        "modelo_lr_s = LinearRegression()\n",
        "modelo_lr_s.fit(X_treino_s, y_treino_s)\n",
        "y_pred_s = modelo_lr_s.predict(X_teste_s)\n",
        "\n",
        "print(\"\\nRegressão Linear Simples:\")\n",
        "print(\"Coeficiente:\", modelo_lr_s.coef_[0])\n",
        "print(\"Intercepto:\", modelo_lr_s.intercept_)\n",
        "print(\"MAE:\", mean_absolute_error(y_teste_s, y_pred_s))\n",
        "print(\"RMSE:\", sqrt(mean_squared_error(y_teste_s, y_pred_s)))\n",
        "print(\"R²:\", r2_score(y_teste_s, y_pred_s))\n",
        "\n",
        "plt.figure(figsize=(8,5))\n",
        "plt.scatter(X_teste_s, y_teste_s, color=\"blue\", alpha=0.5, label=\"Dados reais\")\n",
        "plt.plot(X_teste_s, y_pred_s, color=\"red\", linewidth=2, label=\"Reta de regressão\")\n",
        "plt.title(\"Regressão Linear Simples - Horas de Estudo vs Nota Total\")\n",
        "plt.xlabel(\"Horas de estudo semanais\")\n",
        "plt.ylabel(\"Nota total\")\n",
        "plt.legend()\n",
        "plt.show()\n"
      ],
      "metadata": {
        "id": "Y7N-ODgHPi7H"
      },
      "execution_count": null,
      "outputs": []
    },
    {
      "cell_type": "code",
      "source": [
        "X_multi = dados[['weekly_self_study_hours', 'attendance_percentage', 'class_participation']]\n",
        "X_treino_m, X_teste_m, y_treino_m, y_teste_m = train_test_split(X_multi, y, test_size=0.2, random_state=42)\n",
        "\n",
        "modelo_lr_m = LinearRegression()\n",
        "modelo_lr_m.fit(X_treino_m, y_treino_m)\n",
        "y_pred_m = modelo_lr_m.predict(X_teste_m)\n",
        "\n",
        "print(\"\\nRegressão Linear Múltipla:\")\n",
        "print(dict(zip(X_multi.columns, modelo_lr_m.coef_)))\n",
        "print(\"Intercepto:\", modelo_lr_m.intercept_)\n",
        "print(\"MAE:\", mean_absolute_error(y_teste_m, y_pred_m))\n",
        "print(\"RMSE:\", sqrt(mean_squared_error(y_teste_m, y_pred_m)))\n",
        "print(\"R²:\", r2_score(y_teste_m, y_pred_m))\n",
        "\n",
        "variaveis = X_multi.columns\n",
        "y_pred_m_train = modelo_lr_m.predict(X_treino_m)\n",
        "\n",
        "plt.figure(figsize=(15,4))\n",
        "for i, var in enumerate(variaveis):\n",
        "    plt.subplot(1, 3, i+1)\n",
        "    plt.scatter(X_treino_m[var], y_treino_m, alpha=0.5, label=\"Real\")\n",
        "    plt.scatter(X_treino_m[var], y_pred_m_train, alpha=0.5, label=\"Previsto\", color=\"red\")\n",
        "    plt.title(f\"{var} vs Nota Total\")\n",
        "    plt.xlabel(var)\n",
        "    plt.ylabel(\"Nota Total\")\n",
        "    plt.legend()\n",
        "plt.tight_layout()\n",
        "plt.show()\n"
      ],
      "metadata": {
        "id": "YQsDX_2FPlWz"
      },
      "execution_count": null,
      "outputs": []
    },
    {
      "cell_type": "code",
      "source": [
        "cv = KFold(n_splits=5, shuffle=True, random_state=42)\n",
        "scores = cross_val_score(LinearRegression(), X_multi, y, cv=cv, scoring='r2')\n",
        "print(\"\\nCross-val R² (5-fold):\", scores)\n",
        "print(\"Média:\", scores.mean())\n"
      ],
      "metadata": {
        "id": "DDxcvX4bPpXq"
      },
      "execution_count": null,
      "outputs": []
    },
    {
      "cell_type": "code",
      "source": [
        "mapa = {'A':4, 'B':3, 'C':2, 'D':1, 'F':0}\n",
        "y_classe = dados['grade'].map(mapa)\n",
        "\n",
        "\n",
        "X_treino_c, X_teste_c, y_treino_c, y_teste_c = train_test_split(\n",
        "    X_multi, y_classe, test_size=0.2, random_state=42, stratify=y_classe\n",
        ")\n",
        "\n",
        "\n",
        "escalador = StandardScaler()\n",
        "X_treino_c_esc = escalador.fit_transform(X_treino_c)\n",
        "X_teste_c_esc = escalador.transform(X_teste_c)\n",
        "\n",
        "\n",
        "try:\n",
        "    smote = SMOTE(random_state=42)\n",
        "    X_res, y_res = smote.fit_resample(X_treino_c_esc, y_treino_c)\n",
        "    print(\"SMOTE aplicado: nova distribuição de classes:\\n\", pd.Series(y_res).value_counts())\n",
        "except:\n",
        "    X_res, y_res = X_treino_c_esc, y_treino_c\n",
        "\n",
        "\n",
        "logreg = LogisticRegression(multi_class='multinomial', max_iter=2000, class_weight='balanced', solver='lbfgs')\n",
        "logreg.fit(X_res, y_res)\n",
        "y_pred_log = logreg.predict(X_teste_c_esc)\n",
        "\n",
        "print(\"\\nRegressão Logística:\")\n",
        "print(\"Acurácia:\", accuracy_score(y_teste_c, y_pred_log))\n",
        "print(classification_report(y_teste_c, y_pred_log, target_names=['F','D','C','B','A'], zero_division=0))\n",
        "\n",
        "rf = RandomForestClassifier(n_estimators=100, random_state=42)\n",
        "rf.fit(X_treino_c, y_treino_c)\n",
        "y_pred_rf = rf.predict(X_teste_c)\n",
        "\n",
        "print(\"\\nRandom Forest:\")\n",
        "print(\"Acurácia:\", accuracy_score(y_teste_c, y_pred_rf))\n",
        "print(classification_report(y_teste_c, y_pred_rf, target_names=['F','D','C','B','A'], zero_division=0))\n",
        "\n",
        "matriz = confusion_matrix(y_teste_c, y_pred_rf)\n",
        "plt.figure(figsize=(6,4))\n",
        "sns.heatmap(matriz, annot=True, fmt='d', cmap='Blues', xticklabels=['F','D','C','B','A'], yticklabels=['F','D','C','B','A'])\n",
        "plt.title(\"Matriz de Confusão - Random Forest\")\n",
        "plt.xlabel(\"Predito\")\n",
        "plt.ylabel(\"Verdadeiro\")\n",
        "plt.show()\n",
        "\n",
        "\n",
        "plt.figure(figsize=(6,3))\n",
        "sns.barplot(x=rf.feature_importances_, y=X_multi.columns)\n",
        "plt.title(\"Importância das Variáveis - Random Forest\")\n",
        "plt.show()\n",
        "\n",
        "\n",
        "acuracia_log = accuracy_score(y_teste_c, y_pred_log)\n",
        "acuracia_rf = accuracy_score(y_teste_c, y_pred_rf)\n",
        "\n",
        "plt.figure(figsize=(5,3))\n",
        "sns.barplot(x=['Regressão Logística','Random Forest'], y=[acuracia_log, acuracia_rf])\n",
        "plt.ylim(0,1)\n",
        "plt.title(\"Comparação de Acurácia entre Modelos\")\n",
        "plt.ylabel(\"Acurácia\")\n",
        "plt.show()\n"
      ],
      "metadata": {
        "id": "ul3ZjijaPrJG"
      },
      "execution_count": null,
      "outputs": []
    },
    {
      "cell_type": "code",
      "source": [
        "\n",
        "plt.figure(figsize=(8,4))\n",
        "sns.violinplot(x='grade', y='weekly_self_study_hours', data=dados, order=['A','B','C','D','F'])\n",
        "plt.title(\"Distribuição: Horas de Estudo por Grade\")\n",
        "plt.xlabel(\"Grade\")\n",
        "plt.ylabel(\"Horas de estudo semanais\")\n",
        "plt.show()\n",
        "\n",
        "\n",
        "plt.figure(figsize=(8,4))\n",
        "sns.boxplot(x='grade', y='class_participation', data=dados, order=['A','B','C','D','F'])\n",
        "plt.title(\"Participação em Aula por Grade\")\n",
        "plt.xlabel(\"Grade\")\n",
        "plt.ylabel(\"Participação em aula (%)\")\n",
        "plt.show()\n"
      ],
      "metadata": {
        "id": "yeX8mw-EPx6-"
      },
      "execution_count": null,
      "outputs": []
    },
    {
      "cell_type": "code",
      "source": [
        "\n",
        "estatisticas = dados.groupby(\"grade\")[[\"weekly_self_study_hours\",\"attendance_percentage\",\"class_participation\",\"total_score\"]].agg([\"mean\",\"median\",\"std\"])\n",
        "estatisticas\n"
      ],
      "metadata": {
        "id": "Y0G8Anc0Pzgc"
      },
      "execution_count": null,
      "outputs": []
    },
    {
      "cell_type": "code",
      "source": [
        "\n",
        "sns.pairplot(dados, vars=[\"weekly_self_study_hours\",\"attendance_percentage\",\"class_participation\",\"total_score\"], hue=\"grade\")\n",
        "plt.show()\n"
      ],
      "metadata": {
        "id": "uV0l1E_1P04J"
      },
      "execution_count": null,
      "outputs": []
    },
    {
      "cell_type": "code",
      "source": [
        "from mpl_toolkits.mplot3d import Axes3D\n",
        "\n",
        "fig = plt.figure(figsize=(8,6))\n",
        "ax = fig.add_subplot(111, projection='3d')\n",
        "\n",
        "ax.scatter(dados[\"weekly_self_study_hours\"], dados[\"attendance_percentage\"], dados[\"total_score\"], c=\"blue\", alpha=0.5)\n",
        "\n",
        "ax.set_xlabel(\"Horas de estudo semanais\")\n",
        "ax.set_ylabel(\"Frequência (%)\")\n",
        "ax.set_zlabel(\"Nota total\")\n",
        "ax.set_title(\"Dispersão 3D: Estudo x Frequência x Nota\")\n",
        "plt.show()\n"
      ],
      "metadata": {
        "id": "BFEzo-P6P3rH"
      },
      "execution_count": null,
      "outputs": []
    },
    {
      "cell_type": "code",
      "source": [
        "\n",
        "svm_modelo = SVC(kernel='rbf', class_weight=\"balanced\", random_state=42)\n",
        "svm_modelo.fit(X_treino_c_esc, y_treino_c)\n",
        "y_pred_svm = svm_modelo.predict(X_teste_c_esc)\n",
        "\n",
        "print(\"\\nSVM (Máquina de Vetores de Suporte):\")\n",
        "print(\"Acurácia:\", accuracy_score(y_teste_c, y_pred_svm))\n",
        "print(classification_report(y_teste_c, y_pred_svm, target_names=['F','D','C','B','A'], zero_division=0))\n"
      ],
      "metadata": {
        "id": "MQQ-wvTXP5eb"
      },
      "execution_count": null,
      "outputs": []
    },
    {
      "cell_type": "code",
      "source": [
        "\n",
        "xgb_modelo = XGBClassifier(use_label_encoder=False, eval_metric=\"mlogloss\", random_state=42)\n",
        "xgb_modelo.fit(X_treino_c, y_treino_c)\n",
        "y_pred_xgb = xgb_modelo.predict(X_teste_c)\n",
        "\n",
        "print(\"\\nXGBoost:\")\n",
        "print(\"Acurácia:\", accuracy_score(y_teste_c, y_pred_xgb))\n",
        "print(classification_report(y_teste_c, y_pred_xgb, target_names=['F','D','C','B','A'], zero_division=0))\n"
      ],
      "metadata": {
        "id": "q9mgYbZ7P6-W"
      },
      "execution_count": null,
      "outputs": []
    },
    {
      "cell_type": "code",
      "source": [
        "\n",
        "resultados = pd.DataFrame({\n",
        "    \"Modelo\": [\"Regressão Logística\",\"Random Forest\",\"SVM\",\"XGBoost\"],\n",
        "    \"Acurácia\": [\n",
        "        accuracy_score(y_teste_c, y_pred_log),\n",
        "        accuracy_score(y_teste_c, y_pred_rf),\n",
        "        accuracy_score(y_teste_c, y_pred_svm),\n",
        "        accuracy_score(y_teste_c, y_pred_xgb)\n",
        "    ]\n",
        "})\n",
        "\n",
        "resultados\n"
      ],
      "metadata": {
        "id": "D0y7UQPrP8L-"
      },
      "execution_count": null,
      "outputs": []
    },
    {
      "cell_type": "code",
      "source": [
        "\n",
        "plt.figure(figsize=(7,4))\n",
        "sns.barplot(x=\"Modelo\", y=\"Acurácia\", data=resultados, palette=\"viridis\")\n",
        "plt.ylim(0,1)\n",
        "plt.title(\"Comparação de Acurácia entre Modelos de Classificação\")\n",
        "plt.ylabel(\"Acurácia\")\n",
        "plt.show()\n"
      ],
      "metadata": {
        "id": "5-DOi-oCP9gf"
      },
      "execution_count": null,
      "outputs": []
    },
    {
      "cell_type": "code",
      "source": [
        "print(\"\"\"Conclusões principais:\n",
        "- Há correlação positiva entre horas de estudo e nota total.\n",
        "- Frequência (attendance) e participação contribuem, mas com menor peso relativo.\n",
        "- Modelos testados: Regressão Logística, Random Forest, SVM e XGBoost.\n",
        "- Entre eles, Random Forest e XGBoost tendem a ter melhor desempenho em cenários práticos.\n",
        "- Recomendação: coletar mais dados para classes raras e testar ajustes de hiperparâmetros (GridSearch).\n",
        "\"\"\")\n"
      ],
      "metadata": {
        "id": "D0A5YvTAQANB"
      },
      "execution_count": null,
      "outputs": []
    }
  ]
}